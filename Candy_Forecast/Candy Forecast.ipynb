{
 "cells": [
  {
   "cell_type": "markdown",
   "metadata": {},
   "source": [
    "# Candy Forecast\n",
    "\n",
    "## Created By: Dana Hagist\n",
    "\n",
    "#### Data Source: https://www.kaggle.com/rtatman/us-candy-production-by-month/data\n",
    "\n",
    "The intent of this analysis is to outline a very simple approach that I sourced from https://www.dataiku.com/learn/guide/code/r/time_series.html.  Following the steps below, one can create a time series analysis in a short time with relatively few lines of code.\n",
    "\n",
    "Time series analysis can be extremely useful in predictions when the data follows a pattern.  \n",
    "\n",
    "Furthermore, with some of the packages in R, Python and other languages, you can accomplish a significant amount of analysis without having to write complex functions.\n",
    "\n",
    "The dataset that we are using comes from Kaggle, and represents candy production from January 1972 to August 2017 as a percent of the inductruial production (IP) index from 2012.\n",
    "\n",
    "The dataset, as you will see, is a very good fit for these forecasting models.\n",
    "\n",
    "For this analysis, we will create 3 different models, and I will walk through what each line of code does in the first model.\n",
    "\n",
    "I will also use the aggregate() function to determine the highest and lowest candy production months."
   ]
  },
  {
   "cell_type": "code",
   "execution_count": 27,
   "metadata": {},
   "outputs": [
    {
     "data": {
      "text/plain": [
       "   observation_date    IPG3113N     \n",
       " 1972-01-01:  1     Min.   : 50.67  \n",
       " 1972-02-01:  1     1st Qu.: 87.86  \n",
       " 1972-03-01:  1     Median :102.28  \n",
       " 1972-04-01:  1     Mean   :100.66  \n",
       " 1972-05-01:  1     3rd Qu.:114.69  \n",
       " 1972-06-01:  1     Max.   :139.92  \n",
       " (Other)   :542                     "
      ]
     },
     "metadata": {},
     "output_type": "display_data"
    },
    {
     "name": "stdout",
     "output_type": "stream",
     "text": [
      "'data.frame':\t548 obs. of  2 variables:\n",
      " $ observation_date: Factor w/ 548 levels \"1972-01-01\",\"1972-02-01\",..: 1 2 3 4 5 6 7 8 9 10 ...\n",
      " $ IPG3113N        : num  85.7 71.8 66 64.6 65 ...\n",
      "'data.frame':\t84 obs. of  3 variables:\n",
      " $ observation_date: Factor w/ 548 levels \"1972-01-01\",\"1972-02-01\",..: 457 458 459 460 461 462 463 464 465 466 ...\n",
      " $ IPG3113N        : num  100.4 99 92 89.5 90 ...\n",
      " $ Date            : Date, format: \"2010-01-01\" \"2010-02-01\" ...\n"
     ]
    },
    {
     "data": {
      "text/html": [
       "<table>\n",
       "<thead><tr><th></th><th scope=col>observation_date</th><th scope=col>IPG3113N</th><th scope=col>Date</th></tr></thead>\n",
       "<tbody>\n",
       "\t<tr><th scope=row>457</th><td>2010-01-01</td><td>100.3797  </td><td>2010-01-01</td></tr>\n",
       "\t<tr><th scope=row>458</th><td>2010-02-01</td><td> 99.0155  </td><td>2010-02-01</td></tr>\n",
       "\t<tr><th scope=row>459</th><td>2010-03-01</td><td> 91.9654  </td><td>2010-03-01</td></tr>\n",
       "\t<tr><th scope=row>460</th><td>2010-04-01</td><td> 89.4914  </td><td>2010-04-01</td></tr>\n",
       "\t<tr><th scope=row>461</th><td>2010-05-01</td><td> 89.9713  </td><td>2010-05-01</td></tr>\n",
       "\t<tr><th scope=row>462</th><td>2010-06-01</td><td> 89.5047  </td><td>2010-06-01</td></tr>\n",
       "</tbody>\n",
       "</table>\n"
      ],
      "text/latex": [
       "\\begin{tabular}{r|lll}\n",
       "  & observation\\_date & IPG3113N & Date\\\\\n",
       "\\hline\n",
       "\t457 & 2010-01-01 & 100.3797   & 2010-01-01\\\\\n",
       "\t458 & 2010-02-01 &  99.0155   & 2010-02-01\\\\\n",
       "\t459 & 2010-03-01 &  91.9654   & 2010-03-01\\\\\n",
       "\t460 & 2010-04-01 &  89.4914   & 2010-04-01\\\\\n",
       "\t461 & 2010-05-01 &  89.9713   & 2010-05-01\\\\\n",
       "\t462 & 2010-06-01 &  89.5047   & 2010-06-01\\\\\n",
       "\\end{tabular}\n"
      ],
      "text/markdown": [
       "\n",
       "| <!--/--> | observation_date | IPG3113N | Date | \n",
       "|---|---|---|---|---|---|\n",
       "| 457 | 2010-01-01 | 100.3797   | 2010-01-01 | \n",
       "| 458 | 2010-02-01 |  99.0155   | 2010-02-01 | \n",
       "| 459 | 2010-03-01 |  91.9654   | 2010-03-01 | \n",
       "| 460 | 2010-04-01 |  89.4914   | 2010-04-01 | \n",
       "| 461 | 2010-05-01 |  89.9713   | 2010-05-01 | \n",
       "| 462 | 2010-06-01 |  89.5047   | 2010-06-01 | \n",
       "\n",
       "\n"
      ],
      "text/plain": [
       "    observation_date IPG3113N Date      \n",
       "457 2010-01-01       100.3797 2010-01-01\n",
       "458 2010-02-01        99.0155 2010-02-01\n",
       "459 2010-03-01        91.9654 2010-03-01\n",
       "460 2010-04-01        89.4914 2010-04-01\n",
       "461 2010-05-01        89.9713 2010-05-01\n",
       "462 2010-06-01        89.5047 2010-06-01"
      ]
     },
     "metadata": {},
     "output_type": "display_data"
    },
    {
     "name": "stdout",
     "output_type": "stream",
     "text": [
      "'data.frame':\t8 obs. of  3 variables:\n",
      " $ observation_date: Factor w/ 548 levels \"1972-01-01\",\"1972-02-01\",..: 541 542 543 544 545 546 547 548\n",
      " $ IPG3113N        : num  109 113 105 107 102 ...\n",
      " $ Date            : Date, format: \"2017-01-01\" \"2017-02-01\" ...\n"
     ]
    },
    {
     "data": {
      "text/html": [
       "<table>\n",
       "<thead><tr><th></th><th scope=col>observation_date</th><th scope=col>IPG3113N</th><th scope=col>Date</th></tr></thead>\n",
       "<tbody>\n",
       "\t<tr><th scope=row>541</th><td>2017-01-01</td><td>109.4666  </td><td>2017-01-01</td></tr>\n",
       "\t<tr><th scope=row>542</th><td>2017-02-01</td><td>113.4661  </td><td>2017-02-01</td></tr>\n",
       "\t<tr><th scope=row>543</th><td>2017-03-01</td><td>105.2245  </td><td>2017-03-01</td></tr>\n",
       "\t<tr><th scope=row>544</th><td>2017-04-01</td><td>107.4288  </td><td>2017-04-01</td></tr>\n",
       "\t<tr><th scope=row>545</th><td>2017-05-01</td><td>101.9209  </td><td>2017-05-01</td></tr>\n",
       "\t<tr><th scope=row>546</th><td>2017-06-01</td><td>104.2022  </td><td>2017-06-01</td></tr>\n",
       "</tbody>\n",
       "</table>\n"
      ],
      "text/latex": [
       "\\begin{tabular}{r|lll}\n",
       "  & observation\\_date & IPG3113N & Date\\\\\n",
       "\\hline\n",
       "\t541 & 2017-01-01 & 109.4666   & 2017-01-01\\\\\n",
       "\t542 & 2017-02-01 & 113.4661   & 2017-02-01\\\\\n",
       "\t543 & 2017-03-01 & 105.2245   & 2017-03-01\\\\\n",
       "\t544 & 2017-04-01 & 107.4288   & 2017-04-01\\\\\n",
       "\t545 & 2017-05-01 & 101.9209   & 2017-05-01\\\\\n",
       "\t546 & 2017-06-01 & 104.2022   & 2017-06-01\\\\\n",
       "\\end{tabular}\n"
      ],
      "text/markdown": [
       "\n",
       "| <!--/--> | observation_date | IPG3113N | Date | \n",
       "|---|---|---|---|---|---|\n",
       "| 541 | 2017-01-01 | 109.4666   | 2017-01-01 | \n",
       "| 542 | 2017-02-01 | 113.4661   | 2017-02-01 | \n",
       "| 543 | 2017-03-01 | 105.2245   | 2017-03-01 | \n",
       "| 544 | 2017-04-01 | 107.4288   | 2017-04-01 | \n",
       "| 545 | 2017-05-01 | 101.9209   | 2017-05-01 | \n",
       "| 546 | 2017-06-01 | 104.2022   | 2017-06-01 | \n",
       "\n",
       "\n"
      ],
      "text/plain": [
       "    observation_date IPG3113N Date      \n",
       "541 2017-01-01       109.4666 2017-01-01\n",
       "542 2017-02-01       113.4661 2017-02-01\n",
       "543 2017-03-01       105.2245 2017-03-01\n",
       "544 2017-04-01       107.4288 2017-04-01\n",
       "545 2017-05-01       101.9209 2017-05-01\n",
       "546 2017-06-01       104.2022 2017-06-01"
      ]
     },
     "metadata": {},
     "output_type": "display_data"
    }
   ],
   "source": [
    "# Set the working directory to where your data is stored\n",
    "setwd #Insert working directory between ticks ('')\n",
    "\n",
    "# Reading in the data and performing basic exploratory analysis\n",
    "candy <- read.csv('candy_production.csv')\n",
    "summary(candy)\n",
    "str(candy)\n",
    "\n",
    "# Turning the observation date into a date which will help with analysis \n",
    "candy$Date = as.Date(candy$observation_date, format= \"%Y-%m-%d\")\n",
    "\n",
    "# Creating train and test set for the models\n",
    "train<-subset(candy, Date>= as.Date(\"2010-01-01\") & Date <= as.Date(\"2016-12-01\"))\n",
    "test<-subset(candy, Date >= as.Date(\"2017-01-01\"))\n",
    "\n",
    "# Structure and first rows of train and test\n",
    "str(train)\n",
    "head(train)\n",
    "str(test)\n",
    "head(test)"
   ]
  },
  {
   "cell_type": "markdown",
   "metadata": {},
   "source": [
    "Next thing we will do is load the necessary packages to complete the time series analysis.\n",
    "\n",
    "The forecast library has the functions necssary for training a time series model, as well as forecasting out of sample.\n",
    "\n",
    "The dplyr package has packages that are helpful for manipulating dataframes."
   ]
  },
  {
   "cell_type": "code",
   "execution_count": 34,
   "metadata": {},
   "outputs": [],
   "source": [
    "# Installing necessary packages for analysis\n",
    "library(forecast)\n",
    "library(dplyr)"
   ]
  },
  {
   "cell_type": "markdown",
   "metadata": {},
   "source": [
    "Now that the data has been loaded and dates have been defined for the dataset, next step is to create the necessary time series objects based on our training set and test set using the ts() function.  "
   ]
  },
  {
   "cell_type": "code",
   "execution_count": 37,
   "metadata": {},
   "outputs": [
    {
     "data": {
      "image/png": "[encoded data removed]",
      "text/plain": [
       "plot without title"
      ]
     },
     "metadata": {},
     "output_type": "display_data"
    }
   ],
   "source": [
    "# Creating train and test time series\n",
    "#  Each takes the series to be forecasted, as well as start date and frequency.\n",
    "traints = ts(train$IPG3113N, start=2010, frequency=12)\n",
    "testts = ts(test$IPG3113N, start=2017, frequency=12)\n",
    "\n",
    "# Look at simple plot of our time series object\n",
    "plot(traints)"
   ]
  },
  {
   "cell_type": "markdown",
   "metadata": {},
   "source": [
    "### Ready for Modeling\n",
    "\n",
    "Now that we have our time series objects created, we can go ahead and start modeling.\n",
    "\n",
    "For our purposes, as stated before, we are going to train three models and then determine which one is the most preferable based on a standard and commonly utilized test.\n",
    "\n",
    "Each of the models are created using similar steps.  Each model takes only one paramter as an input, which is the time series object you are looking for forecast.  In our case, this is the traints dataframe.  \n",
    "\n",
    "From there, the forecast() function will take your model and your forecasting horizon as an input.  \n",
    "\n",
    "Then, you can pass your forecast model into the plot() function.\n",
    "\n",
    "I will show each of these steps for the first model."
   ]
  },
  {
   "cell_type": "markdown",
   "metadata": {},
   "source": [
    "### Model 1: Exponential State Smoothing\n",
    "\n",
    "The ets() function in the forecast packiage fits exponential state smoothing (ETS) models.  This function automatically optimizes the choice of model and necessary parameters.  All you have to do is provide the time series.\n",
    "\n",
    "We use this function below to create a forecast for 24 months from the end of 2016."
   ]
  },
  {
   "cell_type": "code",
   "execution_count": 38,
   "metadata": {},
   "outputs": [
    {
     "data": {
      "image/png": "[encoded data removed]",
      "text/plain": [
       "Plot with title \"Forecasts from ETS(M,N,A)\""
      ]
     },
     "metadata": {},
     "output_type": "display_data"
    }
   ],
   "source": [
    "# Step 1: Call the model function and pass in the timeseries, traints.\n",
    "m_ets = ets(traints)\n",
    "\n",
    "# Step 2: Pass your model and forecast horizon in, m_ets and 24 months, respectively.\n",
    "f_ets = forecast(m_ets, h=24) # forecast 24 months into the future\n",
    "\n",
    "# Step 3: Pass in your forecast to the plot function to display.\n",
    "plot(f_ets)"
   ]
  },
  {
   "cell_type": "code",
   "execution_count": 39,
   "metadata": {},
   "outputs": [
    {
     "data": {
      "text/plain": [
       "         Point Forecast     Lo 80     Hi 80     Lo 95    Hi 95\n",
       "Jan 2017      101.62429  97.62193 105.62665  95.50320 107.7454\n",
       "Feb 2017      100.04022  94.75374 105.32670  91.95525 108.1252\n",
       "Mar 2017       97.53040  91.26734 103.79346  87.95187 107.1089\n",
       "Apr 2017       92.78638  85.76597  99.80678  82.04960 103.5232\n",
       "May 2017       89.59052  81.92469  97.25634  77.86665 101.3144\n",
       "Jun 2017       89.91454  81.63539  98.19369  77.25267 102.5764\n",
       "Jul 2017       91.37563  82.50311 100.24815  77.80628 104.9450\n",
       "Aug 2017       98.86419  89.32357 108.40481  84.27307 113.4553\n",
       "Sep 2017      104.84830  94.61465 115.08195  89.19729 120.4993\n",
       "Oct 2017      117.12414 106.06781 128.18047 100.21494 134.0333\n",
       "Nov 2017      117.42399 105.63724 129.21075  99.39771 135.4503\n",
       "Dec 2017      116.42075 103.96124 128.88027  97.36557 135.4759\n",
       "Jan 2018      101.62429  88.71546 114.53312  81.88194 121.3666\n",
       "Feb 2018      100.04022  86.67325 113.40719  79.59720 120.4832\n",
       "Mar 2018       97.53040  83.74399 111.31681  76.44591 118.6149\n",
       "Apr 2018       92.78638  78.63592 106.93683  71.14513 114.4276\n",
       "May 2018       89.59052  75.10519 104.07584  67.43712 111.7439\n",
       "Jun 2018       89.91454  75.09176 104.73732  67.24506 112.5840\n",
       "Jul 2018       91.37563  76.20978 106.54148  68.18146 114.5698\n",
       "Aug 2018       98.86419  83.29448 114.43390  75.05237 122.6760\n",
       "Sep 2018      104.84830  88.84106 120.85554  80.36734 129.3293\n",
       "Oct 2018      117.12414 100.57550 133.67278  91.81518 142.4331\n",
       "Nov 2018      117.42399 100.37543 134.47255  91.35047 143.4975\n",
       "Dec 2018      116.42075  98.89718 133.94432  89.62077 143.2207"
      ]
     },
     "metadata": {},
     "output_type": "display_data"
    }
   ],
   "source": [
    "# Point estimates and confidence intervals for this forecast\n",
    "f_ets"
   ]
  },
  {
   "cell_type": "markdown",
   "metadata": {},
   "source": [
    "The model above does appear to provide a forecast that aligns relatively well from a pattern standpoint with historical patterns.  However, it is clear that some of the nuanced variation is smoothed, which could hurt our estimates."
   ]
  },
  {
   "cell_type": "markdown",
   "metadata": {},
   "source": [
    "### Model 2: ARIMA\n",
    "\n",
    "The auto.arima() function provides another modeling method, called an autoregressive integrated moving average.  This function also searches for the optimal model and parameters.  It is generally advisable to use this function rather than calling the Arima() function directly due to the ease of use from a model specification standpoint."
   ]
  },
  {
   "cell_type": "code",
   "execution_count": 40,
   "metadata": {},
   "outputs": [
    {
     "data": {
      "image/png": "[encoded data removed]",
      "text/plain": [
       "Plot with title \"Forecasts from ARIMA(1,0,0)(2,1,0)[12]\""
      ]
     },
     "metadata": {},
     "output_type": "display_data"
    }
   ],
   "source": [
    "m_aa = auto.arima(traints)\n",
    "f_aa = forecast(m_aa, h=24)\n",
    "plot(f_aa)"
   ]
  },
  {
   "cell_type": "code",
   "execution_count": 42,
   "metadata": {},
   "outputs": [
    {
     "data": {
      "text/plain": [
       "         Point Forecast     Lo 80    Hi 80     Lo 95    Hi 95\n",
       "Jan 2017      101.53901  96.40838 106.6696  93.69239 109.3856\n",
       "Feb 2017      102.23526  95.73137 108.7391  92.28842 112.1821\n",
       "Mar 2017      101.42945  94.21848 108.6404  90.40122 112.4577\n",
       "Apr 2017       96.42071  88.81255 104.0289  84.78503 108.0564\n",
       "May 2017       93.47418  85.63474 101.3136  81.48480 105.4636\n",
       "Jun 2017       96.18295  88.20642 104.1595  83.98389 108.3820\n",
       "Jul 2017       97.28597  89.22736 105.3446  84.96139 109.6106\n",
       "Aug 2017      106.75181  98.64378 114.8598  94.35165 119.1520\n",
       "Sep 2017      110.70738 102.56951 118.8453  98.26158 123.1532\n",
       "Oct 2017      122.02160 113.86567 130.1775 109.54817 134.4950\n",
       "Nov 2017      123.17375 115.00687 131.3406 110.68359 135.6639\n",
       "Dec 2017      121.11962 112.94611 129.2931 108.61931 133.6199\n",
       "Jan 2018      106.69774  98.36024 115.0352  93.94664 119.4488\n",
       "Feb 2018      106.49810  98.06264 114.9336  93.59717 119.3990\n",
       "Mar 2018      105.58529  97.09091 114.0797  92.59425 118.5763\n",
       "Apr 2018      100.80127  92.27133 109.3312  87.75585 113.8467\n",
       "May 2018       98.14938  89.59792 106.7008  85.07106 111.2277\n",
       "Jun 2018      100.18764  91.62315 108.7521  87.08939 113.2859\n",
       "Jul 2018      101.31057  92.73818 109.8829  88.20024 114.4209\n",
       "Aug 2018      108.32965  99.75248 116.9068  95.21199 121.4473\n",
       "Sep 2018      111.48951 102.90942 120.0696  98.36740 124.6116\n",
       "Oct 2018      121.97108 113.38923 130.5529 108.84628 135.0959\n",
       "Nov 2018      120.67557 112.09265 129.2585 107.54913 133.8020\n",
       "Dec 2018      118.75361 110.17004 127.3372 105.62618 131.8810"
      ]
     },
     "metadata": {},
     "output_type": "display_data"
    }
   ],
   "source": [
    "# Point estimates and confidence interval\n",
    "f_aa"
   ]
  },
  {
   "cell_type": "markdown",
   "metadata": {},
   "source": [
    "This seems to be a little bit of a better fit of the historical fluctuation  than the ETS model we looked at before.  We will train one more model for comparison."
   ]
  },
  {
   "cell_type": "markdown",
   "metadata": {},
   "source": [
    "### Model 3: TBATS\n",
    "\n",
    "Last model we will look at is the TBATS model, which can help if there are complicated patterns in your time series that your other models may not be picking up.  An example would be if the data exhibited multiple cyclic patterns (e.g. daily, weekly and yearly seasonality)"
   ]
  },
  {
   "cell_type": "code",
   "execution_count": 43,
   "metadata": {},
   "outputs": [
    {
     "data": {
      "image/png": "[encoded data removed]",
      "text/plain": [
       "Plot with title \"Forecasts from TBATS(1, {0,0}, -, {<12,5>})\""
      ]
     },
     "metadata": {},
     "output_type": "display_data"
    }
   ],
   "source": [
    "m_tbats = tbats(traints)\n",
    "f_tbats = forecast(m_tbats, h=24)\n",
    "plot(f_tbats)"
   ]
  },
  {
   "cell_type": "code",
   "execution_count": 44,
   "metadata": {},
   "outputs": [
    {
     "data": {
      "text/plain": [
       "         Point Forecast     Lo 80     Hi 80     Lo 95    Hi 95\n",
       "Jan 2017      104.07745  99.42076 108.73413  96.95566 111.1992\n",
       "Feb 2017      100.51900  94.89037 106.14763  91.91076 109.1272\n",
       "Mar 2017       99.16310  92.47828 105.84792  88.93955 109.3866\n",
       "Apr 2017       91.98478  84.44830  99.52125  80.45874 103.5108\n",
       "May 2017       90.92301  82.62392  99.22211  78.23065 103.6154\n",
       "Jun 2017       89.13890  80.13964  98.13815  75.37572 102.9021\n",
       "Jul 2017       93.40795  83.77364 103.04226  78.67354 108.1424\n",
       "Aug 2017       98.75071  88.50710 108.99433  83.08446 114.4170\n",
       "Sep 2017      106.80946  96.01184 117.60709  90.29592 123.3230\n",
       "Oct 2017      116.50509 105.16047 127.84971  99.15500 133.8552\n",
       "Nov 2017      118.76142 106.92424 130.59859 100.65802 136.8648\n",
       "Dec 2017      116.24391 103.90575 128.58208  97.37431 135.1135\n",
       "Jan 2018      104.07745  91.31895 116.83595  84.56500 123.5899\n",
       "Feb 2018      100.51900  87.37457 113.66343  80.41633 120.6217\n",
       "Mar 2018       99.16310  85.53293 112.79327  78.31756 120.0086\n",
       "Apr 2018       91.98478  77.91733 106.05223  70.47047 113.4991\n",
       "May 2018       90.92301  76.43269 105.41334  68.76197 113.0841\n",
       "Jun 2018       89.13890  74.23651 104.04128  66.34766 111.9301\n",
       "Jul 2018       93.40795  78.11368 108.70222  70.01739 116.7985\n",
       "Aug 2018       98.75071  83.06549 114.43594  74.76223 122.7392\n",
       "Sep 2018      106.80946  90.75694 122.86198  82.25925 131.3597\n",
       "Oct 2018      116.50509 100.07966 132.93053  91.38455 141.6256\n",
       "Nov 2018      118.76142 101.99200 135.53084  93.11481 144.4080\n",
       "Dec 2018      116.24391  99.11718 133.37064  90.05083 142.4370"
      ]
     },
     "metadata": {},
     "output_type": "display_data"
    }
   ],
   "source": [
    "# Point estimates and confidence intervals\n",
    "f_tbats"
   ]
  },
  {
   "cell_type": "markdown",
   "metadata": {},
   "source": [
    "### Model Comparison\n",
    "\n",
    "We will use the Akaike information criterion (AIC) test to compare the different models.  AIC is a very common method for determining how well a model fits the data, while penalizing more complex models.  The model with the smallest AIC is generally the most preferable model from a statistical soundness standpoint.  However, it's important to consider how well the model fits your data."
   ]
  },
  {
   "cell_type": "code",
   "execution_count": 45,
   "metadata": {},
   "outputs": [
    {
     "data": {
      "image/png": "[encoded data removed]",
      "text/plain": [
       "plot without title"
      ]
     },
     "metadata": {},
     "output_type": "display_data"
    }
   ],
   "source": [
    "barplot(c(ETS=m_ets$aic, ARIMA=m_aa$aic, TBATS=m_tbats$AIC),col=\"light blue\",ylab=\"AIC\")"
   ]
  },
  {
   "cell_type": "markdown",
   "metadata": {},
   "source": [
    "The above barplot suggests that the ARIMA model is the most preferable in this case.  Next, we can look at how well our data fit the actuals/test set for the time period after the end of the training set."
   ]
  },
  {
   "cell_type": "code",
   "execution_count": 46,
   "metadata": {},
   "outputs": [
    {
     "data": {
      "image/png": "[encoded data removed]",
      "text/plain": [
       "Plot with title \" \""
      ]
     },
     "metadata": {},
     "output_type": "display_data"
    }
   ],
   "source": [
    "# Plot of ETS against actuals\n",
    "plot(f_ets, main=\" \")\n",
    "lines(testts, col='red')"
   ]
  },
  {
   "cell_type": "code",
   "execution_count": 47,
   "metadata": {},
   "outputs": [
    {
     "data": {
      "image/png": "[encoded data removed]",
      "text/plain": [
       "Plot with title \" \""
      ]
     },
     "metadata": {},
     "output_type": "display_data"
    }
   ],
   "source": [
    "# Plot of ETS against actuals\n",
    "plot(f_aa, main=\" \")\n",
    "lines(testts, col='red')"
   ]
  },
  {
   "cell_type": "code",
   "execution_count": 48,
   "metadata": {},
   "outputs": [
    {
     "data": {
      "image/png": "[encoded data removed]",
      "text/plain": [
       "Plot with title \" \""
      ]
     },
     "metadata": {},
     "output_type": "display_data"
    }
   ],
   "source": [
    "# Plot of ETS against actuals\n",
    "plot(f_tbats, main=\" \")\n",
    "lines(testts, col='red')"
   ]
  },
  {
   "cell_type": "markdown",
   "metadata": {},
   "source": [
    "Based on an analysis of each of the plots above, it appears that 2017 did not generally fit the historical pattern.  Sales were slightly higher than the pattern would suggest based on data from 2010 through 2016.  However, the actuals are at the top end of the 95% confidence interval for each.  \n",
    "\n",
    "It is possible that the choice of training set could be revisited if it appears that the test data has reached a new and higher normal/mean.\n",
    "\n",
    "Last step for this analysis will be to look at which months have the highest and lowest candy production historically."
   ]
  },
  {
   "cell_type": "markdown",
   "metadata": {},
   "source": [
    "### Highs and Lows of Candy Production\n",
    "\n",
    "In the code cell below, we will seek to understand how candy production changes over the course of the year.\n",
    "\n",
    "We will point out the highest and lowest months of production."
   ]
  },
  {
   "cell_type": "code",
   "execution_count": 60,
   "metadata": {},
   "outputs": [
    {
     "name": "stdout",
     "output_type": "stream",
     "text": [
      " chr [1:548] \"01\" \"02\" \"03\" \"04\" \"05\" \"06\" \"07\" \"08\" \"09\" \"10\" \"11\" \"12\" ...\n"
     ]
    },
    {
     "data": {
      "text/html": [
       "<table>\n",
       "<thead><tr><th scope=col>Group.1</th><th scope=col>x</th></tr></thead>\n",
       "<tbody>\n",
       "\t<tr><td>01       </td><td>103.18784</td></tr>\n",
       "\t<tr><td>02       </td><td> 99.25708</td></tr>\n",
       "\t<tr><td>03       </td><td> 92.75588</td></tr>\n",
       "\t<tr><td>04       </td><td> 88.66798</td></tr>\n",
       "\t<tr><td>05       </td><td> 88.83878</td></tr>\n",
       "\t<tr><td>06       </td><td> 90.75027</td></tr>\n",
       "\t<tr><td>07       </td><td> 89.56786</td></tr>\n",
       "\t<tr><td>08       </td><td> 95.76317</td></tr>\n",
       "\t<tr><td>09       </td><td>100.80413</td></tr>\n",
       "\t<tr><td>10       </td><td>118.69989</td></tr>\n",
       "\t<tr><td>11       </td><td>120.82752</td></tr>\n",
       "\t<tr><td>12       </td><td>120.08571</td></tr>\n",
       "</tbody>\n",
       "</table>\n"
      ],
      "text/latex": [
       "\\begin{tabular}{r|ll}\n",
       " Group.1 & x\\\\\n",
       "\\hline\n",
       "\t 01        & 103.18784\\\\\n",
       "\t 02        &  99.25708\\\\\n",
       "\t 03        &  92.75588\\\\\n",
       "\t 04        &  88.66798\\\\\n",
       "\t 05        &  88.83878\\\\\n",
       "\t 06        &  90.75027\\\\\n",
       "\t 07        &  89.56786\\\\\n",
       "\t 08        &  95.76317\\\\\n",
       "\t 09        & 100.80413\\\\\n",
       "\t 10        & 118.69989\\\\\n",
       "\t 11        & 120.82752\\\\\n",
       "\t 12        & 120.08571\\\\\n",
       "\\end{tabular}\n"
      ],
      "text/markdown": [
       "\n",
       "Group.1 | x | \n",
       "|---|---|---|---|---|---|---|---|---|---|---|---|\n",
       "| 01        | 103.18784 | \n",
       "| 02        |  99.25708 | \n",
       "| 03        |  92.75588 | \n",
       "| 04        |  88.66798 | \n",
       "| 05        |  88.83878 | \n",
       "| 06        |  90.75027 | \n",
       "| 07        |  89.56786 | \n",
       "| 08        |  95.76317 | \n",
       "| 09        | 100.80413 | \n",
       "| 10        | 118.69989 | \n",
       "| 11        | 120.82752 | \n",
       "| 12        | 120.08571 | \n",
       "\n",
       "\n"
      ],
      "text/plain": [
       "   Group.1 x        \n",
       "1  01      103.18784\n",
       "2  02       99.25708\n",
       "3  03       92.75588\n",
       "4  04       88.66798\n",
       "5  05       88.83878\n",
       "6  06       90.75027\n",
       "7  07       89.56786\n",
       "8  08       95.76317\n",
       "9  09      100.80413\n",
       "10 10      118.69989\n",
       "11 11      120.82752\n",
       "12 12      120.08571"
      ]
     },
     "metadata": {},
     "output_type": "display_data"
    }
   ],
   "source": [
    "# Creating Month object to group by\n",
    "candy$Mon = format(candy$Date, format= \"%m\")\n",
    "str(candy$Mon)\n",
    "\n",
    "# Aggregate function to find mean candy production by month\n",
    "candy_Mons <- aggregate(x=candy$IPG3113N, by=list(candy$Mon), FUN=mean)\n",
    "candy_Mons"
   ]
  },
  {
   "cell_type": "markdown",
   "metadata": {},
   "source": [
    "The above table suggests that for the entire data set, mean candy production is the highest the last 3 months of the year.\n",
    "\n",
    "Candy prouction is the lowest in the Spring and Summer months.\n",
    "\n",
    "This makes sense as production likely peaks around holidays like Halloween, Christmas, and Valentines Day."
   ]
  }
 ],
 "metadata": {
  "kernelspec": {
   "display_name": "R",
   "language": "R",
   "name": "ir"
  },
  "language_info": {
   "codemirror_mode": "r",
   "file_extension": ".r",
   "mimetype": "text/x-r-source",
   "name": "R",
   "pygments_lexer": "r",
   "version": "3.4.3"
  }
 },
 "nbformat": 4,
 "nbformat_minor": 2
}
