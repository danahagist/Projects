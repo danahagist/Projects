{
 "cells": [
  {
   "cell_type": "markdown",
   "metadata": {},
   "source": [
    "# Predicting Wine Quality\n",
    "\n",
    "### Data from: kaggle.com via UCI machine learning repository\n",
    "\n",
    "Data Source:\n",
    "P. Cortez, A. Cerdeira, F. Almeida, T. Matos and J. Reis. \n",
    "Modeling wine preferences by data mining from physicochemical properties. In Decision Support Systems, Elsevier, 47(4):547-553, 2009.\n",
    "\n",
    "### Compiled by: Dana Hagist\n",
    "\n",
    "In this project, I'm going to be looking at the variables that impact wine quality, classifying the wine as \"GOOD\" or \"BAD.\"\n",
    "\n",
    "Although the original data includes a 1-10 scale for quality, I am defining a good wine as anything with a 7 or above, and bad as anything below 7.\n",
    "\n",
    "Obviously, this doesn't mean that all wines that are 6 or 5 are actually bad, but gives a meaningful cutoff for a true logistic regression analysis."
   ]
  },
  {
   "cell_type": "code",
   "execution_count": 31,
   "metadata": {},
   "outputs": [],
   "source": [
    "# Set working directory\n",
    "setwd # ('') Insert working directory between ticks"
   ]
  },
  {
   "cell_type": "code",
   "execution_count": 5,
   "metadata": {},
   "outputs": [
    {
     "name": "stdout",
     "output_type": "stream",
     "text": [
      "'data.frame':\t1599 obs. of  14 variables:\n",
      " $ fixed.acidity       : num  7.4 7.8 7.8 11.2 7.4 7.4 7.9 7.3 7.8 7.5 ...\n",
      " $ volatile.acidity    : num  0.7 0.88 0.76 0.28 0.7 0.66 0.6 0.65 0.58 0.5 ...\n",
      " $ citric.acid         : num  0 0 0.04 0.56 0 0 0.06 0 0.02 0.36 ...\n",
      " $ residual.sugar      : num  1.9 2.6 2.3 1.9 1.9 1.8 1.6 1.2 2 6.1 ...\n",
      " $ chlorides           : num  0.076 0.098 0.092 0.075 0.076 0.075 0.069 0.065 0.073 0.071 ...\n",
      " $ free.sulfur.dioxide : num  11 25 15 17 11 13 15 15 9 17 ...\n",
      " $ total.sulfur.dioxide: num  34 67 54 60 34 40 59 21 18 102 ...\n",
      " $ density             : num  0.998 0.997 0.997 0.998 0.998 ...\n",
      " $ pH                  : num  3.51 3.2 3.26 3.16 3.51 3.51 3.3 3.39 3.36 3.35 ...\n",
      " $ sulphates           : num  0.56 0.68 0.65 0.58 0.56 0.56 0.46 0.47 0.57 0.8 ...\n",
      " $ alcohol             : num  9.4 9.8 9.8 9.8 9.4 9.4 9.4 10 9.5 10.5 ...\n",
      " $ quality             : int  5 5 5 6 5 5 5 7 7 5 ...\n",
      " $ good                : Factor w/ 2 levels \"BAD\",\"GOOD\": 1 1 1 1 1 1 1 2 2 1 ...\n",
      " $ good_binary         : int  0 0 0 0 0 0 0 1 1 0 ...\n"
     ]
    },
    {
     "data": {
      "text/plain": [
       " fixed.acidity   volatile.acidity  citric.acid    residual.sugar  \n",
       " Min.   : 4.60   Min.   :0.1200   Min.   :0.000   Min.   : 0.900  \n",
       " 1st Qu.: 7.10   1st Qu.:0.3900   1st Qu.:0.090   1st Qu.: 1.900  \n",
       " Median : 7.90   Median :0.5200   Median :0.260   Median : 2.200  \n",
       " Mean   : 8.32   Mean   :0.5278   Mean   :0.271   Mean   : 2.539  \n",
       " 3rd Qu.: 9.20   3rd Qu.:0.6400   3rd Qu.:0.420   3rd Qu.: 2.600  \n",
       " Max.   :15.90   Max.   :1.5800   Max.   :1.000   Max.   :15.500  \n",
       "   chlorides       free.sulfur.dioxide total.sulfur.dioxide    density      \n",
       " Min.   :0.01200   Min.   : 1.00       Min.   :  6.00       Min.   :0.9901  \n",
       " 1st Qu.:0.07000   1st Qu.: 7.00       1st Qu.: 22.00       1st Qu.:0.9956  \n",
       " Median :0.07900   Median :14.00       Median : 38.00       Median :0.9968  \n",
       " Mean   :0.08747   Mean   :15.87       Mean   : 46.47       Mean   :0.9967  \n",
       " 3rd Qu.:0.09000   3rd Qu.:21.00       3rd Qu.: 62.00       3rd Qu.:0.9978  \n",
       " Max.   :0.61100   Max.   :72.00       Max.   :289.00       Max.   :1.0037  \n",
       "       pH          sulphates         alcohol         quality        good     \n",
       " Min.   :2.740   Min.   :0.3300   Min.   : 8.40   Min.   :3.000   BAD :1382  \n",
       " 1st Qu.:3.210   1st Qu.:0.5500   1st Qu.: 9.50   1st Qu.:5.000   GOOD: 217  \n",
       " Median :3.310   Median :0.6200   Median :10.20   Median :6.000              \n",
       " Mean   :3.311   Mean   :0.6581   Mean   :10.42   Mean   :5.636              \n",
       " 3rd Qu.:3.400   3rd Qu.:0.7300   3rd Qu.:11.10   3rd Qu.:6.000              \n",
       " Max.   :4.010   Max.   :2.0000   Max.   :14.90   Max.   :8.000              \n",
       "  good_binary    \n",
       " Min.   :0.0000  \n",
       " 1st Qu.:0.0000  \n",
       " Median :0.0000  \n",
       " Mean   :0.1357  \n",
       " 3rd Qu.:0.0000  \n",
       " Max.   :1.0000  "
      ]
     },
     "metadata": {},
     "output_type": "display_data"
    }
   ],
   "source": [
    "# Read in the dataset and understand structure and summary statistics\n",
    "options(\"scipen\"=999)\n",
    "wine = read.csv(\"winequality-red.csv\")\n",
    "str(wine)\n",
    "summary(wine)"
   ]
  },
  {
   "cell_type": "markdown",
   "metadata": {},
   "source": [
    "Based on the above, it does not appear that we have any issues with regards to missing data or other data quality issues.\n",
    "\n",
    "We can move forward with creating and exploring some initial models."
   ]
  },
  {
   "cell_type": "code",
   "execution_count": 6,
   "metadata": {},
   "outputs": [
    {
     "name": "stdout",
     "output_type": "stream",
     "text": [
      "'data.frame':\t1119 obs. of  14 variables:\n",
      " $ fixed.acidity       : num  7.4 11.2 7.4 7.4 7.9 7.8 6.7 5.6 7.8 8.9 ...\n",
      " $ volatile.acidity    : num  0.7 0.28 0.7 0.66 0.6 0.58 0.58 0.615 0.61 0.62 ...\n",
      " $ citric.acid         : num  0 0.56 0 0 0.06 0.02 0.08 0 0.29 0.18 ...\n",
      " $ residual.sugar      : num  1.9 1.9 1.9 1.8 1.6 2 1.8 1.6 1.6 3.8 ...\n",
      " $ chlorides           : num  0.076 0.075 0.076 0.075 0.069 0.073 0.097 0.089 0.114 0.176 ...\n",
      " $ free.sulfur.dioxide : num  11 17 11 13 15 9 15 16 9 52 ...\n",
      " $ total.sulfur.dioxide: num  34 60 34 40 59 18 65 59 29 145 ...\n",
      " $ density             : num  0.998 0.998 0.998 0.998 0.996 ...\n",
      " $ pH                  : num  3.51 3.16 3.51 3.51 3.3 3.36 3.28 3.58 3.26 3.16 ...\n",
      " $ sulphates           : num  0.56 0.58 0.56 0.56 0.46 0.57 0.54 0.52 1.56 0.88 ...\n",
      " $ alcohol             : num  9.4 9.8 9.4 9.4 9.4 9.5 9.2 9.9 9.1 9.2 ...\n",
      " $ quality             : int  5 6 5 5 5 7 5 5 5 5 ...\n",
      " $ good                : Factor w/ 2 levels \"BAD\",\"GOOD\": 1 1 1 1 1 2 1 1 1 1 ...\n",
      " $ good_binary         : int  0 0 0 0 0 1 0 0 0 0 ...\n",
      "'data.frame':\t480 obs. of  14 variables:\n",
      " $ fixed.acidity       : num  7.8 7.8 7.3 7.5 7.5 8.5 7.6 7.1 7.8 8.7 ...\n",
      " $ volatile.acidity    : num  0.88 0.76 0.65 0.5 0.5 0.28 0.39 0.71 0.6 0.29 ...\n",
      " $ citric.acid         : num  0 0.04 0 0.36 0.36 0.56 0.31 0 0.14 0.52 ...\n",
      " $ residual.sugar      : num  2.6 2.3 1.2 6.1 6.1 1.8 2.3 1.9 2.4 1.6 ...\n",
      " $ chlorides           : num  0.098 0.092 0.065 0.071 0.071 0.092 0.082 0.08 0.086 0.113 ...\n",
      " $ free.sulfur.dioxide : num  25 15 15 17 17 35 23 14 3 12 ...\n",
      " $ total.sulfur.dioxide: num  67 54 21 102 102 103 71 35 15 37 ...\n",
      " $ density             : num  0.997 0.997 0.995 0.998 0.998 ...\n",
      " $ pH                  : num  3.2 3.26 3.39 3.35 3.35 3.3 3.52 3.47 3.42 3.25 ...\n",
      " $ sulphates           : num  0.68 0.65 0.47 0.8 0.8 0.75 0.65 0.55 0.6 0.58 ...\n",
      " $ alcohol             : num  9.8 9.8 10 10.5 10.5 10.5 9.7 9.4 10.8 9.5 ...\n",
      " $ quality             : int  5 5 7 5 5 7 5 5 6 5 ...\n",
      " $ good                : Factor w/ 2 levels \"BAD\",\"GOOD\": 1 1 2 1 1 2 1 1 1 1 ...\n",
      " $ good_binary         : int  0 0 1 0 0 1 0 0 0 0 ...\n"
     ]
    }
   ],
   "source": [
    "# Split data into train and test sets\n",
    "set.seed(144)\n",
    "library(caTools)\n",
    "split = sample.split(wine$good_binary, SplitRatio = .7)\n",
    "train = subset(wine, split == TRUE)\n",
    "test = subset(wine, split == FALSE)\n",
    "str(train)\n",
    "str(test)"
   ]
  },
  {
   "cell_type": "code",
   "execution_count": 7,
   "metadata": {},
   "outputs": [
    {
     "data": {
      "text/plain": [
       "\n",
       "   0    1 \n",
       "1382  217 "
      ]
     },
     "metadata": {},
     "output_type": "display_data"
    }
   ],
   "source": [
    "# Creating baseline model\n",
    "table(wine$good_binary)"
   ]
  },
  {
   "cell_type": "markdown",
   "metadata": {},
   "source": [
    "With the above, a simple baseline model would predict that all of the wines are going to be bad, as there are more in the bad category."
   ]
  },
  {
   "cell_type": "code",
   "execution_count": 63,
   "metadata": {},
   "outputs": [
    {
     "data": {
      "text/html": [
       "<table>\n",
       "<thead><tr><th></th><th scope=col>fixed.acidity</th><th scope=col>volatile.acidity</th><th scope=col>citric.acid</th><th scope=col>residual.sugar</th><th scope=col>chlorides</th><th scope=col>free.sulfur.dioxide</th><th scope=col>total.sulfur.dioxide</th><th scope=col>density</th><th scope=col>pH</th><th scope=col>sulphates</th><th scope=col>alcohol</th></tr></thead>\n",
       "<tbody>\n",
       "\t<tr><th scope=row>fixed.acidity</th><td> 1.00000000 </td><td>-0.24835951 </td><td> 0.66328052 </td><td> 0.10050922 </td><td> 0.076418084</td><td>-0.150099400</td><td>-0.11719655 </td><td> 0.67319186 </td><td>-0.68323493 </td><td> 0.17893957 </td><td>-0.07620950 </td></tr>\n",
       "\t<tr><th scope=row>volatile.acidity</th><td>-0.24835951 </td><td> 1.00000000 </td><td>-0.54978974 </td><td> 0.01328370 </td><td> 0.066869886</td><td>-0.028394844</td><td> 0.06327700 </td><td> 0.03223019 </td><td> 0.23546850 </td><td>-0.25096275 </td><td>-0.20161095 </td></tr>\n",
       "\t<tr><th scope=row>citric.acid</th><td> 0.66328052 </td><td>-0.54978974 </td><td> 1.00000000 </td><td> 0.13008315 </td><td> 0.219685566</td><td>-0.053819876</td><td> 0.04022611 </td><td> 0.35824113 </td><td>-0.54904177 </td><td> 0.31645489 </td><td> 0.09898899 </td></tr>\n",
       "\t<tr><th scope=row>residual.sugar</th><td> 0.10050922 </td><td> 0.01328370 </td><td> 0.13008315 </td><td> 1.00000000 </td><td> 0.011023345</td><td> 0.160191746</td><td> 0.21805630 </td><td> 0.33209398 </td><td>-0.07754659 </td><td>-0.02723708 </td><td> 0.04940878 </td></tr>\n",
       "\t<tr><th scope=row>chlorides</th><td> 0.07641808 </td><td> 0.06686989 </td><td> 0.21968557 </td><td> 0.01102334 </td><td> 1.000000000</td><td>-0.001964367</td><td> 0.03776908 </td><td> 0.17877205 </td><td>-0.28031260 </td><td> 0.39587721 </td><td>-0.22851435 </td></tr>\n",
       "\t<tr><th scope=row>free.sulfur.dioxide</th><td>-0.15009940 </td><td>-0.02839484 </td><td>-0.05381988 </td><td> 0.16019175 </td><td>-0.001964367</td><td> 1.000000000</td><td> 0.65415982 </td><td>-0.01778014 </td><td> 0.07246603 </td><td> 0.06655326 </td><td>-0.05928800 </td></tr>\n",
       "\t<tr><th scope=row>total.sulfur.dioxide</th><td>-0.11719655 </td><td> 0.06327700 </td><td> 0.04022611 </td><td> 0.21805630 </td><td> 0.037769083</td><td> 0.654159820</td><td> 1.00000000 </td><td> 0.06436244 </td><td>-0.07316460 </td><td> 0.05285608 </td><td>-0.18224940 </td></tr>\n",
       "\t<tr><th scope=row>density</th><td> 0.67319186 </td><td> 0.03223019 </td><td> 0.35824113 </td><td> 0.33209398 </td><td> 0.178772046</td><td>-0.017780137</td><td> 0.06436244 </td><td> 1.00000000 </td><td>-0.34998744 </td><td> 0.13313609 </td><td>-0.50543414 </td></tr>\n",
       "\t<tr><th scope=row>pH</th><td>-0.68323493 </td><td> 0.23546850 </td><td>-0.54904177 </td><td>-0.07754659 </td><td>-0.280312601</td><td> 0.072466035</td><td>-0.07316460 </td><td>-0.34998744 </td><td> 1.00000000 </td><td>-0.22784171 </td><td> 0.21652765 </td></tr>\n",
       "\t<tr><th scope=row>sulphates</th><td> 0.17893957 </td><td>-0.25096275 </td><td> 0.31645489 </td><td>-0.02723708 </td><td> 0.395877206</td><td> 0.066553264</td><td> 0.05285608 </td><td> 0.13313609 </td><td>-0.22784171 </td><td> 1.00000000 </td><td> 0.08301249 </td></tr>\n",
       "\t<tr><th scope=row>alcohol</th><td>-0.07620950 </td><td>-0.20161095 </td><td> 0.09898899 </td><td> 0.04940878 </td><td>-0.228514350</td><td>-0.059287998</td><td>-0.18224940 </td><td>-0.50543414 </td><td> 0.21652765 </td><td> 0.08301249 </td><td> 1.00000000 </td></tr>\n",
       "</tbody>\n",
       "</table>\n"
      ],
      "text/latex": [
       "\\begin{tabular}{r|lllllllllll}\n",
       "  & fixed.acidity & volatile.acidity & citric.acid & residual.sugar & chlorides & free.sulfur.dioxide & total.sulfur.dioxide & density & pH & sulphates & alcohol\\\\\n",
       "\\hline\n",
       "\tfixed.acidity &  1.00000000  & -0.24835951  &  0.66328052  &  0.10050922  &  0.076418084 & -0.150099400 & -0.11719655  &  0.67319186  & -0.68323493  &  0.17893957  & -0.07620950 \\\\\n",
       "\tvolatile.acidity & -0.24835951  &  1.00000000  & -0.54978974  &  0.01328370  &  0.066869886 & -0.028394844 &  0.06327700  &  0.03223019  &  0.23546850  & -0.25096275  & -0.20161095 \\\\\n",
       "\tcitric.acid &  0.66328052  & -0.54978974  &  1.00000000  &  0.13008315  &  0.219685566 & -0.053819876 &  0.04022611  &  0.35824113  & -0.54904177  &  0.31645489  &  0.09898899 \\\\\n",
       "\tresidual.sugar &  0.10050922  &  0.01328370  &  0.13008315  &  1.00000000  &  0.011023345 &  0.160191746 &  0.21805630  &  0.33209398  & -0.07754659  & -0.02723708  &  0.04940878 \\\\\n",
       "\tchlorides &  0.07641808  &  0.06686989  &  0.21968557  &  0.01102334  &  1.000000000 & -0.001964367 &  0.03776908  &  0.17877205  & -0.28031260  &  0.39587721  & -0.22851435 \\\\\n",
       "\tfree.sulfur.dioxide & -0.15009940  & -0.02839484  & -0.05381988  &  0.16019175  & -0.001964367 &  1.000000000 &  0.65415982  & -0.01778014  &  0.07246603  &  0.06655326  & -0.05928800 \\\\\n",
       "\ttotal.sulfur.dioxide & -0.11719655  &  0.06327700  &  0.04022611  &  0.21805630  &  0.037769083 &  0.654159820 &  1.00000000  &  0.06436244  & -0.07316460  &  0.05285608  & -0.18224940 \\\\\n",
       "\tdensity &  0.67319186  &  0.03223019  &  0.35824113  &  0.33209398  &  0.178772046 & -0.017780137 &  0.06436244  &  1.00000000  & -0.34998744  &  0.13313609  & -0.50543414 \\\\\n",
       "\tpH & -0.68323493  &  0.23546850  & -0.54904177  & -0.07754659  & -0.280312601 &  0.072466035 & -0.07316460  & -0.34998744  &  1.00000000  & -0.22784171  &  0.21652765 \\\\\n",
       "\tsulphates &  0.17893957  & -0.25096275  &  0.31645489  & -0.02723708  &  0.395877206 &  0.066553264 &  0.05285608  &  0.13313609  & -0.22784171  &  1.00000000  &  0.08301249 \\\\\n",
       "\talcohol & -0.07620950  & -0.20161095  &  0.09898899  &  0.04940878  & -0.228514350 & -0.059287998 & -0.18224940  & -0.50543414  &  0.21652765  &  0.08301249  &  1.00000000 \\\\\n",
       "\\end{tabular}\n"
      ],
      "text/markdown": [
       "\n",
       "| <!--/--> | fixed.acidity | volatile.acidity | citric.acid | residual.sugar | chlorides | free.sulfur.dioxide | total.sulfur.dioxide | density | pH | sulphates | alcohol | \n",
       "|---|---|---|---|---|---|---|---|---|---|---|\n",
       "| fixed.acidity |  1.00000000  | -0.24835951  |  0.66328052  |  0.10050922  |  0.076418084 | -0.150099400 | -0.11719655  |  0.67319186  | -0.68323493  |  0.17893957  | -0.07620950  | \n",
       "| volatile.acidity | -0.24835951  |  1.00000000  | -0.54978974  |  0.01328370  |  0.066869886 | -0.028394844 |  0.06327700  |  0.03223019  |  0.23546850  | -0.25096275  | -0.20161095  | \n",
       "| citric.acid |  0.66328052  | -0.54978974  |  1.00000000  |  0.13008315  |  0.219685566 | -0.053819876 |  0.04022611  |  0.35824113  | -0.54904177  |  0.31645489  |  0.09898899  | \n",
       "| residual.sugar |  0.10050922  |  0.01328370  |  0.13008315  |  1.00000000  |  0.011023345 |  0.160191746 |  0.21805630  |  0.33209398  | -0.07754659  | -0.02723708  |  0.04940878  | \n",
       "| chlorides |  0.07641808  |  0.06686989  |  0.21968557  |  0.01102334  |  1.000000000 | -0.001964367 |  0.03776908  |  0.17877205  | -0.28031260  |  0.39587721  | -0.22851435  | \n",
       "| free.sulfur.dioxide | -0.15009940  | -0.02839484  | -0.05381988  |  0.16019175  | -0.001964367 |  1.000000000 |  0.65415982  | -0.01778014  |  0.07246603  |  0.06655326  | -0.05928800  | \n",
       "| total.sulfur.dioxide | -0.11719655  |  0.06327700  |  0.04022611  |  0.21805630  |  0.037769083 |  0.654159820 |  1.00000000  |  0.06436244  | -0.07316460  |  0.05285608  | -0.18224940  | \n",
       "| density |  0.67319186  |  0.03223019  |  0.35824113  |  0.33209398  |  0.178772046 | -0.017780137 |  0.06436244  |  1.00000000  | -0.34998744  |  0.13313609  | -0.50543414  | \n",
       "| pH | -0.68323493  |  0.23546850  | -0.54904177  | -0.07754659  | -0.280312601 |  0.072466035 | -0.07316460  | -0.34998744  |  1.00000000  | -0.22784171  |  0.21652765  | \n",
       "| sulphates |  0.17893957  | -0.25096275  |  0.31645489  | -0.02723708  |  0.395877206 |  0.066553264 |  0.05285608  |  0.13313609  | -0.22784171  |  1.00000000  |  0.08301249  | \n",
       "| alcohol | -0.07620950  | -0.20161095  |  0.09898899  |  0.04940878  | -0.228514350 | -0.059287998 | -0.18224940  | -0.50543414  |  0.21652765  |  0.08301249  |  1.00000000  | \n",
       "\n",
       "\n"
      ],
      "text/plain": [
       "                     fixed.acidity volatile.acidity citric.acid residual.sugar\n",
       "fixed.acidity         1.00000000   -0.24835951       0.66328052  0.10050922   \n",
       "volatile.acidity     -0.24835951    1.00000000      -0.54978974  0.01328370   \n",
       "citric.acid           0.66328052   -0.54978974       1.00000000  0.13008315   \n",
       "residual.sugar        0.10050922    0.01328370       0.13008315  1.00000000   \n",
       "chlorides             0.07641808    0.06686989       0.21968557  0.01102334   \n",
       "free.sulfur.dioxide  -0.15009940   -0.02839484      -0.05381988  0.16019175   \n",
       "total.sulfur.dioxide -0.11719655    0.06327700       0.04022611  0.21805630   \n",
       "density               0.67319186    0.03223019       0.35824113  0.33209398   \n",
       "pH                   -0.68323493    0.23546850      -0.54904177 -0.07754659   \n",
       "sulphates             0.17893957   -0.25096275       0.31645489 -0.02723708   \n",
       "alcohol              -0.07620950   -0.20161095       0.09898899  0.04940878   \n",
       "                     chlorides    free.sulfur.dioxide total.sulfur.dioxide\n",
       "fixed.acidity         0.076418084 -0.150099400        -0.11719655         \n",
       "volatile.acidity      0.066869886 -0.028394844         0.06327700         \n",
       "citric.acid           0.219685566 -0.053819876         0.04022611         \n",
       "residual.sugar        0.011023345  0.160191746         0.21805630         \n",
       "chlorides             1.000000000 -0.001964367         0.03776908         \n",
       "free.sulfur.dioxide  -0.001964367  1.000000000         0.65415982         \n",
       "total.sulfur.dioxide  0.037769083  0.654159820         1.00000000         \n",
       "density               0.178772046 -0.017780137         0.06436244         \n",
       "pH                   -0.280312601  0.072466035        -0.07316460         \n",
       "sulphates             0.395877206  0.066553264         0.05285608         \n",
       "alcohol              -0.228514350 -0.059287998        -0.18224940         \n",
       "                     density     pH          sulphates   alcohol    \n",
       "fixed.acidity         0.67319186 -0.68323493  0.17893957 -0.07620950\n",
       "volatile.acidity      0.03223019  0.23546850 -0.25096275 -0.20161095\n",
       "citric.acid           0.35824113 -0.54904177  0.31645489  0.09898899\n",
       "residual.sugar        0.33209398 -0.07754659 -0.02723708  0.04940878\n",
       "chlorides             0.17877205 -0.28031260  0.39587721 -0.22851435\n",
       "free.sulfur.dioxide  -0.01778014  0.07246603  0.06655326 -0.05928800\n",
       "total.sulfur.dioxide  0.06436244 -0.07316460  0.05285608 -0.18224940\n",
       "density               1.00000000 -0.34998744  0.13313609 -0.50543414\n",
       "pH                   -0.34998744  1.00000000 -0.22784171  0.21652765\n",
       "sulphates             0.13313609 -0.22784171  1.00000000  0.08301249\n",
       "alcohol              -0.50543414  0.21652765  0.08301249  1.00000000"
      ]
     },
     "metadata": {},
     "output_type": "display_data"
    }
   ],
   "source": [
    "# Understanding level of collinearity\n",
    "vars = train[c('fixed.acidity', 'volatile.acidity','citric.acid', 'residual.sugar', 'chlorides', 'free.sulfur.dioxide', 'total.sulfur.dioxide', 'density', 'pH', 'sulphates', 'alcohol')]\n",
    "cor(vars)"
   ]
  },
  {
   "cell_type": "markdown",
   "metadata": {},
   "source": [
    "Looking at the above table of correlations, it does not appear that we will deal with a significant multicollinearity problem, as the correlation between many of these variables is relatively small."
   ]
  },
  {
   "cell_type": "code",
   "execution_count": 64,
   "metadata": {},
   "outputs": [
    {
     "data": {
      "text/plain": [
       "\n",
       "Call:\n",
       "glm(formula = good_binary ~ alcohol, family = \"binomial\", data = train)\n",
       "\n",
       "Deviance Residuals: \n",
       "    Min       1Q   Median       3Q      Max  \n",
       "-2.3006  -0.4955  -0.3083  -0.2355   2.7225  \n",
       "\n",
       "Coefficients:\n",
       "             Estimate Std. Error z value            Pr(>|z|)    \n",
       "(Intercept) -13.77478    1.02811  -13.40 <0.0000000000000002 ***\n",
       "alcohol       1.09715    0.09121   12.03 <0.0000000000000002 ***\n",
       "---\n",
       "Signif. codes:  0 '***' 0.001 '**' 0.01 '*' 0.05 '.' 0.1 ' ' 1\n",
       "\n",
       "(Dispersion parameter for binomial family taken to be 1)\n",
       "\n",
       "    Null deviance: 889.23  on 1118  degrees of freedom\n",
       "Residual deviance: 705.69  on 1117  degrees of freedom\n",
       "AIC: 709.69\n",
       "\n",
       "Number of Fisher Scoring iterations: 5\n"
      ]
     },
     "metadata": {},
     "output_type": "display_data"
    }
   ],
   "source": [
    "# Building First Model with only one variable, alcohol\n",
    "mod1 = glm(good_binary ~ alcohol, data=train, family=\"binomial\")\n",
    "summary(mod1)"
   ]
  },
  {
   "cell_type": "code",
   "execution_count": 65,
   "metadata": {},
   "outputs": [
    {
     "data": {
      "text/plain": [
       "   \n",
       "    FALSE TRUE\n",
       "  0   938   29\n",
       "  1   129   23"
      ]
     },
     "metadata": {},
     "output_type": "display_data"
    }
   ],
   "source": [
    "# Computing predictions\n",
    "pred1 = predict(mod1, type=\"response\")\n",
    "table(train$good_binary, pred1 > 0.5)"
   ]
  },
  {
   "cell_type": "code",
   "execution_count": 66,
   "metadata": {},
   "outputs": [
    {
     "data": {
      "text/plain": [
       "\n",
       "Call:\n",
       "glm(formula = good_binary ~ alcohol + fixed.acidity + residual.sugar + \n",
       "    free.sulfur.dioxide + density + sulphates, family = \"binomial\", \n",
       "    data = train)\n",
       "\n",
       "Deviance Residuals: \n",
       "    Min       1Q   Median       3Q      Max  \n",
       "-3.6373  -0.4356  -0.2213  -0.1349   2.9674  \n",
       "\n",
       "Coefficients:\n",
       "                      Estimate Std. Error z value         Pr(>|z|)    \n",
       "(Intercept)          406.61533  101.83377   3.993 0.00006526131879 ***\n",
       "alcohol                0.91511    0.13201   6.932 0.00000000000414 ***\n",
       "fixed.acidity          0.53529    0.08927   5.996 0.00000000201895 ***\n",
       "residual.sugar         0.21053    0.08598   2.449           0.0143 *  \n",
       "free.sulfur.dioxide   -0.02136    0.01109  -1.926           0.0541 .  \n",
       "density             -427.48508  102.13616  -4.185 0.00002846105169 ***\n",
       "sulphates              3.81220    0.54146   7.041 0.00000000000191 ***\n",
       "---\n",
       "Signif. codes:  0 '***' 0.001 '**' 0.01 '*' 0.05 '.' 0.1 ' ' 1\n",
       "\n",
       "(Dispersion parameter for binomial family taken to be 1)\n",
       "\n",
       "    Null deviance: 889.23  on 1118  degrees of freedom\n",
       "Residual deviance: 609.04  on 1112  degrees of freedom\n",
       "AIC: 623.04\n",
       "\n",
       "Number of Fisher Scoring iterations: 6\n"
      ]
     },
     "metadata": {},
     "output_type": "display_data"
    }
   ],
   "source": [
    "# Adding variable(s) to our model\n",
    "# We will look for variables that are highly UNcorrelated to include.\n",
    "mod2 = glm(good_binary ~ alcohol + fixed.acidity + residual.sugar + free.sulfur.dioxide + density + sulphates, data=train, family=\"binomial\")\n",
    "summary(mod2)"
   ]
  },
  {
   "cell_type": "code",
   "execution_count": 67,
   "metadata": {},
   "outputs": [
    {
     "data": {
      "text/plain": [
       "   \n",
       "    FALSE TRUE\n",
       "  0   936   31\n",
       "  1   104   48"
      ]
     },
     "metadata": {},
     "output_type": "display_data"
    }
   ],
   "source": [
    "# Getting predictions for second model\n",
    "pred2 = predict(mod2, type=\"response\")\n",
    "table(train$good_binary, pred2 > 0.5)"
   ]
  },
  {
   "cell_type": "code",
   "execution_count": 68,
   "metadata": {},
   "outputs": [
    {
     "data": {
      "text/plain": [
       "\n",
       "Call:\n",
       "glm(formula = good_binary ~ alcohol + fixed.acidity + volatile.acidity + \n",
       "    citric.acid + chlorides + total.sulfur.dioxide + pH + residual.sugar + \n",
       "    free.sulfur.dioxide + density + sulphates, family = \"binomial\", \n",
       "    data = train)\n",
       "\n",
       "Deviance Residuals: \n",
       "    Min       1Q   Median       3Q      Max  \n",
       "-3.2033  -0.4052  -0.1845  -0.0988   3.1090  \n",
       "\n",
       "Coefficients:\n",
       "                        Estimate  Std. Error z value        Pr(>|z|)    \n",
       "(Intercept)           306.181815  129.855953   2.358         0.01838 *  \n",
       "alcohol                 0.808770    0.161800   4.999 0.0000005775408 ***\n",
       "fixed.acidity           0.327392    0.150303   2.178         0.02939 *  \n",
       "volatile.acidity       -2.716251    0.972265  -2.794         0.00521 ** \n",
       "citric.acid             1.257036    1.023627   1.228         0.21944    \n",
       "chlorides              -8.957779    3.761275  -2.382         0.01724 *  \n",
       "total.sulfur.dioxide   -0.011156    0.005186  -2.151         0.03145 *  \n",
       "pH                      0.535113    1.226622   0.436         0.66266    \n",
       "residual.sugar          0.235047    0.091017   2.582         0.00981 ** \n",
       "free.sulfur.dioxide    -0.005359    0.014771  -0.363         0.71675    \n",
       "density              -324.170046  132.702920  -2.443         0.01457 *  \n",
       "sulphates               4.347446    0.661787   6.569 0.0000000000506 ***\n",
       "---\n",
       "Signif. codes:  0 '***' 0.001 '**' 0.01 '*' 0.05 '.' 0.1 ' ' 1\n",
       "\n",
       "(Dispersion parameter for binomial family taken to be 1)\n",
       "\n",
       "    Null deviance: 889.23  on 1118  degrees of freedom\n",
       "Residual deviance: 570.83  on 1107  degrees of freedom\n",
       "AIC: 594.83\n",
       "\n",
       "Number of Fisher Scoring iterations: 6\n"
      ]
     },
     "metadata": {},
     "output_type": "display_data"
    }
   ],
   "source": [
    "# Trying another model with all of the variables\n",
    "mod3 = glm(good_binary ~ alcohol + fixed.acidity + volatile.acidity + citric.acid + chlorides + total.sulfur.dioxide + pH +  residual.sugar + free.sulfur.dioxide + density + sulphates, data=train, family=\"binomial\")\n",
    "summary(mod3)"
   ]
  },
  {
   "cell_type": "markdown",
   "metadata": {},
   "source": [
    "Now that we can see a model with all of the variables included, we can take some of these variables out one by one to get to something more reasonable.\n",
    "\n",
    "Variables that appear that they can be omitted, in order or least statistical significance:<br>\n",
    "free.sulfur.dioxide<br>\n",
    "pH<br>\n",
    "citric.acid<br>\n",
    "\n",
    "We will remove one at a time to see whether the statistical significance of the other variables changes."
   ]
  },
  {
   "cell_type": "code",
   "execution_count": 71,
   "metadata": {},
   "outputs": [
    {
     "data": {
      "text/plain": [
       "\n",
       "Call:\n",
       "glm(formula = good_binary ~ alcohol + fixed.acidity + volatile.acidity + \n",
       "    citric.acid + chlorides + total.sulfur.dioxide + residual.sugar + \n",
       "    pH + density + sulphates, family = \"binomial\", data = train)\n",
       "\n",
       "Deviance Residuals: \n",
       "    Min       1Q   Median       3Q      Max  \n",
       "-3.2104  -0.4119  -0.1843  -0.0971   3.1142  \n",
       "\n",
       "Coefficients:\n",
       "                        Estimate  Std. Error z value        Pr(>|z|)    \n",
       "(Intercept)           305.052166  129.906417   2.348         0.01886 *  \n",
       "alcohol                 0.811126    0.161721   5.016 0.0000005287079 ***\n",
       "fixed.acidity           0.323963    0.149903   2.161         0.03068 *  \n",
       "volatile.acidity       -2.681170    0.968805  -2.768         0.00565 ** \n",
       "citric.acid             1.278796    1.022129   1.251         0.21089    \n",
       "chlorides              -9.014310    3.753290  -2.402         0.01632 *  \n",
       "total.sulfur.dioxide   -0.012394    0.003973  -3.120         0.00181 ** \n",
       "residual.sugar          0.238863    0.090288   2.646         0.00816 ** \n",
       "pH                      0.481144    1.217464   0.395         0.69269    \n",
       "density              -322.909407  132.740908  -2.433         0.01499 *  \n",
       "sulphates               4.341904    0.661240   6.566 0.0000000000516 ***\n",
       "---\n",
       "Signif. codes:  0 '***' 0.001 '**' 0.01 '*' 0.05 '.' 0.1 ' ' 1\n",
       "\n",
       "(Dispersion parameter for binomial family taken to be 1)\n",
       "\n",
       "    Null deviance: 889.23  on 1118  degrees of freedom\n",
       "Residual deviance: 570.96  on 1108  degrees of freedom\n",
       "AIC: 592.96\n",
       "\n",
       "Number of Fisher Scoring iterations: 6\n"
      ]
     },
     "metadata": {},
     "output_type": "display_data"
    }
   ],
   "source": [
    "mod4 = glm(good_binary ~ alcohol + fixed.acidity + volatile.acidity + citric.acid + chlorides + total.sulfur.dioxide + residual.sugar + pH + density + sulphates, data=train, family=\"binomial\")\n",
    "summary(mod4)"
   ]
  },
  {
   "cell_type": "code",
   "execution_count": 73,
   "metadata": {},
   "outputs": [
    {
     "data": {
      "text/plain": [
       "\n",
       "Call:\n",
       "glm(formula = good_binary ~ alcohol + fixed.acidity + citric.acid + \n",
       "    volatile.acidity + chlorides + total.sulfur.dioxide + residual.sugar + \n",
       "    density + sulphates, family = \"binomial\", data = train)\n",
       "\n",
       "Deviance Residuals: \n",
       "    Min       1Q   Median       3Q      Max  \n",
       "-3.1859  -0.4145  -0.1855  -0.0989   3.1189  \n",
       "\n",
       "Coefficients:\n",
       "                        Estimate  Std. Error z value        Pr(>|z|)    \n",
       "(Intercept)           278.949042  111.708941   2.497         0.01252 *  \n",
       "alcohol                 0.840763    0.143404   5.863 0.0000000045480 ***\n",
       "fixed.acidity           0.283886    0.110396   2.572         0.01013 *  \n",
       "citric.acid             1.210062    1.008988   1.199         0.23042    \n",
       "volatile.acidity       -2.715590    0.968940  -2.803         0.00507 ** \n",
       "chlorides              -9.249074    3.713942  -2.490         0.01276 *  \n",
       "total.sulfur.dioxide   -0.012559    0.003948  -3.181         0.00147 ** \n",
       "residual.sugar          0.227475    0.085680   2.655         0.00793 ** \n",
       "density              -294.959882  112.164380  -2.630         0.00855 ** \n",
       "sulphates               4.280021    0.642036   6.666 0.0000000000262 ***\n",
       "---\n",
       "Signif. codes:  0 '***' 0.001 '**' 0.01 '*' 0.05 '.' 0.1 ' ' 1\n",
       "\n",
       "(Dispersion parameter for binomial family taken to be 1)\n",
       "\n",
       "    Null deviance: 889.23  on 1118  degrees of freedom\n",
       "Residual deviance: 571.12  on 1109  degrees of freedom\n",
       "AIC: 591.12\n",
       "\n",
       "Number of Fisher Scoring iterations: 6\n"
      ]
     },
     "metadata": {},
     "output_type": "display_data"
    }
   ],
   "source": [
    "mod5 = glm(good_binary ~ alcohol + fixed.acidity + citric.acid + volatile.acidity + chlorides + total.sulfur.dioxide + residual.sugar + density + sulphates, data=train, family=\"binomial\")\n",
    "summary(mod5)"
   ]
  },
  {
   "cell_type": "code",
   "execution_count": 74,
   "metadata": {},
   "outputs": [
    {
     "data": {
      "text/plain": [
       "\n",
       "Call:\n",
       "glm(formula = good_binary ~ alcohol + fixed.acidity + volatile.acidity + \n",
       "    chlorides + total.sulfur.dioxide + residual.sugar + density + \n",
       "    sulphates, family = \"binomial\", data = train)\n",
       "\n",
       "Deviance Residuals: \n",
       "    Min       1Q   Median       3Q      Max  \n",
       "-3.3008  -0.4118  -0.1884  -0.0992   3.1402  \n",
       "\n",
       "Coefficients:\n",
       "                        Estimate  Std. Error z value        Pr(>|z|)    \n",
       "(Intercept)           270.685039  111.522136   2.427        0.015216 *  \n",
       "alcohol                 0.873406    0.140649   6.210 0.0000000005304 ***\n",
       "fixed.acidity           0.346505    0.097831   3.542        0.000397 ***\n",
       "volatile.acidity       -3.379918    0.807427  -4.186 0.0000283868008 ***\n",
       "chlorides              -8.011812    3.586640  -2.234        0.025497 *  \n",
       "total.sulfur.dioxide   -0.011977    0.003963  -3.022        0.002507 ** \n",
       "residual.sugar          0.241378    0.084484   2.857        0.004275 ** \n",
       "density              -286.999008  112.008635  -2.562        0.010398 *  \n",
       "sulphates               4.251592    0.643833   6.604 0.0000000000401 ***\n",
       "---\n",
       "Signif. codes:  0 '***' 0.001 '**' 0.01 '*' 0.05 '.' 0.1 ' ' 1\n",
       "\n",
       "(Dispersion parameter for binomial family taken to be 1)\n",
       "\n",
       "    Null deviance: 889.23  on 1118  degrees of freedom\n",
       "Residual deviance: 572.55  on 1110  degrees of freedom\n",
       "AIC: 590.55\n",
       "\n",
       "Number of Fisher Scoring iterations: 6\n"
      ]
     },
     "metadata": {},
     "output_type": "display_data"
    }
   ],
   "source": [
    "mod6 = glm(good_binary ~ alcohol + fixed.acidity + volatile.acidity + chlorides + total.sulfur.dioxide + residual.sugar + density + sulphates, data=train, family=\"binomial\")\n",
    "summary(mod6)"
   ]
  },
  {
   "cell_type": "markdown",
   "metadata": {},
   "source": [
    "The above seems to be a pretty good model as we have achieved our lowest AIC set up to this point, and all of our remaining variables have a high level of statistical significance.\n",
    "\n",
    "We can now use this model to make our training set predictions."
   ]
  },
  {
   "cell_type": "code",
   "execution_count": 75,
   "metadata": {},
   "outputs": [
    {
     "data": {
      "text/plain": [
       "   \n",
       "    FALSE TRUE\n",
       "  0   935   32\n",
       "  1    90   62"
      ]
     },
     "metadata": {},
     "output_type": "display_data"
    }
   ],
   "source": [
    "pred6 = predict(mod6, type=\"response\")\n",
    "table(train$good_binary, pred6 > 0.5)"
   ]
  },
  {
   "cell_type": "code",
   "execution_count": 76,
   "metadata": {},
   "outputs": [
    {
     "data": {
      "text/html": [
       "0.890974084003575"
      ],
      "text/latex": [
       "0.890974084003575"
      ],
      "text/markdown": [
       "0.890974084003575"
      ],
      "text/plain": [
       "[1] 0.8909741"
      ]
     },
     "metadata": {},
     "output_type": "display_data"
    }
   ],
   "source": [
    "# Calculating our training set accuracy\n",
    "(935 + 62)/ (935 + 62 + 90 + 32)"
   ]
  },
  {
   "cell_type": "markdown",
   "metadata": {},
   "source": [
    "The above statistics suggests we were 89% accurate on the training set.\n",
    "\n",
    "Now we can see how well our model performed against the test set."
   ]
  },
  {
   "cell_type": "code",
   "execution_count": 77,
   "metadata": {},
   "outputs": [
    {
     "data": {
      "text/plain": [
       "   \n",
       "    FALSE TRUE\n",
       "  0   395   20\n",
       "  1    47   18"
      ]
     },
     "metadata": {},
     "output_type": "display_data"
    }
   ],
   "source": [
    "TestPrediction = predict(mod6, newdata=test, type=\"response\")\n",
    "table(test$good_binary, TestPrediction>=0.5)"
   ]
  },
  {
   "cell_type": "code",
   "execution_count": 78,
   "metadata": {},
   "outputs": [
    {
     "data": {
      "text/html": [
       "0.860416666666667"
      ],
      "text/latex": [
       "0.860416666666667"
      ],
      "text/markdown": [
       "0.860416666666667"
      ],
      "text/plain": [
       "[1] 0.8604167"
      ]
     },
     "metadata": {},
     "output_type": "display_data"
    }
   ],
   "source": [
    "# Calculating test set accuracy\n",
    "(395 + 18) / (395 + 18 + 20 + 47)"
   ]
  },
  {
   "cell_type": "markdown",
   "metadata": {},
   "source": [
    "In this case, we are 86% correct against the test set, which is a pretty good outcome.\n",
    "\n",
    "In the case that we simply predicted that all wines would be bad, as that is the more common outcome, we would have also been correct 86% of the time, so our fitted model does not offer additional predictive power over the simple baseline method."
   ]
  },
  {
   "cell_type": "code",
   "execution_count": 17,
   "metadata": {},
   "outputs": [
    {
     "data": {
      "text/html": [
       "0.864583333333333"
      ],
      "text/latex": [
       "0.864583333333333"
      ],
      "text/markdown": [
       "0.864583333333333"
      ],
      "text/plain": [
       "[1] 0.8645833"
      ]
     },
     "metadata": {},
     "output_type": "display_data"
    }
   ],
   "source": [
    "# Calculating baseline accuracy\n",
    "(395 + 20) / (395 + 20 + 47 + 18)"
   ]
  },
  {
   "cell_type": "markdown",
   "metadata": {},
   "source": [
    "It could be worthwhile at this point to explore other models that may increase or predictive power on the data."
   ]
  }
 ],
 "metadata": {
  "kernelspec": {
   "display_name": "R",
   "language": "R",
   "name": "ir"
  },
  "language_info": {
   "codemirror_mode": "r",
   "file_extension": ".r",
   "mimetype": "text/x-r-source",
   "name": "R",
   "pygments_lexer": "r",
   "version": "3.4.3"
  }
 },
 "nbformat": 4,
 "nbformat_minor": 2
}
